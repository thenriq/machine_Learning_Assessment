{
 "cells": [
  {
   "cell_type": "markdown",
   "metadata": {},
   "source": [
    "## What is SciPy?"
   ]
  },
  {
   "cell_type": "markdown",
   "metadata": {},
   "source": [
    "SciPy is a third-party library for scientific computing based on NumPy. It offers additional functionality compared to NumPy, including scipy.stats for statistical analysis.\n",
    "\n",
    "This module contains a large number of probability distributions, summary and frequency statistics, correlation functions and statistical tests, masked statistics, kernel density estimation, quasi-Monte Carlo functionality, and more.\n",
    "[Source: Python Statistics Fundamentals: How to Describe Your Data](https://realpython.com/python-statistics/) and [docs.scipy.org](https://docs.scipy.org/doc/scipy/reference/stats.html)"
   ]
  },
  {
   "cell_type": "markdown",
   "metadata": {},
   "source": [
    "<br>\n",
    "\n",
    "# ANOVA\n",
    "\n",
    "---"
   ]
  },
  {
   "cell_type": "markdown",
   "metadata": {},
   "source": [
    "### Case study with COVID-19 data\n",
    "\n",
    "[Source: Analytics Vidhya](https://www.analyticsvidhya.com/blog/2020/06/introduction-anova-statistics-data-science-covid-python/)\n",
    "\n",
    "<br>\n",
    "\n",
    "![title](https://raw.githubusercontent.com/thenriq/machine_Learning_Assessment/main/images/logo_corona.jpg)"
   ]
  },
  {
   "cell_type": "markdown",
   "metadata": {},
   "source": [
    "<br>\n",
    "\n",
    "### What is the ANOVA Test?\n",
    "\n",
    "An Analysis of Variance Test, or ANOVA, can be thought of as a generalization of the t-tests for more than 2 groups. The independent t-test is used to compare the means of a condition between two groups. ANOVA is used when we want to compare the means of a condition between more than two groups.\n",
    "\n",
    "---"
   ]
  },
  {
   "cell_type": "markdown",
   "metadata": {},
   "source": [
    "To perform any tests, we first need to define the null and alternate hypothesis:\n",
    "\n",
    "- **Null Hypothesis – There is no significant difference among the groups**\n",
    "- **Alternate Hypothesis – There is a significant difference among the groups**"
   ]
  },
  {
   "cell_type": "markdown",
   "metadata": {},
   "source": [
    "<br>\n",
    "\n",
    "### Importing Libraries\n",
    "\n",
    "---"
   ]
  },
  {
   "cell_type": "code",
   "execution_count": null,
   "metadata": {},
   "outputs": [],
   "source": [
    "import pandas as pd\n",
    "import numpy as np\n",
    "\n",
    "import scipy.stats as stats\n",
    "import os\n",
    "import random\n",
    "\n",
    "import statsmodels.api as sm\n",
    "import statsmodels.stats.multicomp\n",
    "\n",
    "from statsmodels.formula.api import ols\n",
    "from statsmodels.stats.anova import anova_lm\n",
    "import matplotlib.pyplot as plt\n",
    "from scipy import stats\n",
    "import seaborn as sns\n",
    "\n",
    "\n",
    "os.getcwd()\n",
    "#os.chdir('D:\\Qurantine\\Blog\\ANOVA Test')"
   ]
  },
  {
   "cell_type": "markdown",
   "metadata": {},
   "source": [
    "<br>\n",
    "\n",
    "#### Importing the data\n",
    "\n",
    "[Source: MiPasa](https://app.mipasa.com/datasets/view/e0b68c6d-a336-413e-ba58-94ab1b86f5d1/covid-19-india-testing-samples), [Covid-19 i India - Kaggle](https://www.kaggle.com/sudalairajkumar/covid19-in-india/version/91?select=population_india_census2011.csv)"
   ]
  },
  {
   "cell_type": "code",
   "execution_count": null,
   "metadata": {},
   "outputs": [],
   "source": [
    "StatewiseTestingDetails=pd.read_csv('./datasets/statewise_testing_details.csv')\n",
    "population_india_census2011=pd.read_csv('./datasets/population_india_census2011.csv')"
   ]
  },
  {
   "cell_type": "markdown",
   "metadata": {},
   "source": [
    "**statewise_testing_details.csv** contains information about total positive & negative cases in a day in each state. \n",
    "\n",
    "Whereas **population_india_census2011.csv** contains information about the density of each state and other related information about population.\n",
    "\n",
    "<br>"
   ]
  },
  {
   "cell_type": "code",
   "execution_count": null,
   "metadata": {},
   "outputs": [],
   "source": [
    "population_india_census2011.head() #take glimpse of data\n",
    "StatewiseTestingDetails.head() #take glimpse of data\n",
    "StatewiseTestingDetails['Positive'].sort_values().head() #sort values"
   ]
  },
  {
   "cell_type": "code",
   "execution_count": null,
   "metadata": {},
   "outputs": [],
   "source": [
    "##We see that there're many entries with 0. That means no case has been detected. So we can add 1 in all entries.\n",
    "#So while perfroming any sort of Data transformation that involves log in it , won't give error.\n",
    "StatewiseTestingDetails['Positive']=StatewiseTestingDetails['Positive']+1"
   ]
  },
  {
   "cell_type": "markdown",
   "metadata": {},
   "source": [
    "From the above code snippet, we can see that there’re a few states that have 0 or no corona cases in a day. So let’s check out such states:\n",
    "\n",
    "<br>"
   ]
  },
  {
   "cell_type": "code",
   "execution_count": null,
   "metadata": {},
   "outputs": [],
   "source": [
    "StatewiseTestingDetails['state'][StatewiseTestingDetails['Positive']==1].unique()"
   ]
  },
  {
   "cell_type": "markdown",
   "metadata": {},
   "source": [
    "We see that Nagaland & Sikkim have no corona case also in a day. On the other hand, Arunachal Pradesh & Mizoram states have only 1 corona case in a day.\n",
    "\n",
    "**Impute Missing values**: We’ve noticed that there are many missing values in the ‘Positive’ column. So let’s impute these missing values by the median of Positive with respect to each state:"
   ]
  },
  {
   "cell_type": "code",
   "execution_count": null,
   "metadata": {},
   "outputs": [],
   "source": [
    "stateMedianData=StatewiseTestingDetails.groupby('state')[['Positive']].median().reset_index().rename(columns={'Positive':'Median'})\n",
    "stateMedianData.head()\n",
    "\n",
    "for index,row in StatewiseTestingDetails.iterrows():\n",
    "\n",
    "    if pd.isnull(row['Positive']):\n",
    "\n",
    "        StatewiseTestingDetails['Positive'][index]=int(stateMedianData['Median'][stateMedianData['state']==row['state']])\n",
    "\n",
    "\n",
    "data=pd.merge(StatewiseTestingDetails,population_india_census2011,on='state')\n"
   ]
  },
  {
   "cell_type": "markdown",
   "metadata": {},
   "source": [
    "Now we can write a function to create a density group bucket as per the density of each state, where Dense1 < Dense2 < Dense3 < Dense4:"
   ]
  },
  {
   "cell_type": "code",
   "execution_count": null,
   "metadata": {},
   "outputs": [],
   "source": [
    "def densityCheck(data):\n",
    "    data['density_Group']=0\n",
    "    for index,row in data.iterrows():\n",
    "        status=None\n",
    "        i=row['density'].split('/')[0]\n",
    "        try:\n",
    "            if (',' in i):\n",
    "                i=int(i.split(',')[0]+i.split(',')[1])\n",
    "            elif ('.' in i):\n",
    "                i=round(float(i))\n",
    "            else:\n",
    "                i=int(i)\n",
    "        except ValueError as err:\n",
    "            pass\n",
    "        try:\n",
    "            if (0<i<=300):\n",
    "                status='Dense1'\n",
    "            elif (300<i<=600):\n",
    "                status='Dense2'\n",
    "            elif (600<i<=900):\n",
    "                status='Dense3'\n",
    "            else:\n",
    "                status='Dense4'\n",
    "        except ValueError as err:\n",
    "            pass\n",
    "        data['density_Group'].iloc[index]=status\n",
    "    return data"
   ]
  },
  {
   "cell_type": "markdown",
   "metadata": {},
   "source": [
    "Now, map each state with its density group. And we can export this data so we can use that in the two- way ANOVA test later:"
   ]
  },
  {
   "cell_type": "code",
   "execution_count": null,
   "metadata": {},
   "outputs": [],
   "source": [
    "data=densityCheck(data)\n",
    "#We'll export this data so we can use it for Two - way ANOVA test.\n",
    "stateDensity=data[['state','density']].drop_duplicates().sort_values(by='state')"
   ]
  },
  {
   "cell_type": "code",
   "execution_count": null,
   "metadata": {},
   "outputs": [],
   "source": [
    "data.head()"
   ]
  },
  {
   "cell_type": "code",
   "execution_count": null,
   "metadata": {},
   "outputs": [],
   "source": [
    "data.describe()"
   ]
  },
  {
   "cell_type": "markdown",
   "metadata": {},
   "source": [
    "Let’s subset and rearrange the dataset that we can use for our ANOVA test:"
   ]
  },
  {
   "cell_type": "code",
   "execution_count": null,
   "metadata": {},
   "outputs": [],
   "source": [
    "df=pd.DataFrame({'Dense1':data[data['density_Group']=='Dense1']['Positive'],\n",
    "                 'Dense2':data[data['density_Group']=='Dense2']['Positive'],\n",
    "                 'Dense3':data[data['density_Group']=='Dense3']['Positive'],\n",
    "                 'Dense4':data[data['density_Group']=='Dense4']['Positive']})"
   ]
  },
  {
   "cell_type": "code",
   "execution_count": null,
   "metadata": {},
   "outputs": [],
   "source": [
    "df.describe()"
   ]
  },
  {
   "cell_type": "code",
   "execution_count": null,
   "metadata": {},
   "outputs": [],
   "source": [
    "df.head()"
   ]
  },
  {
   "cell_type": "markdown",
   "metadata": {},
   "source": [
    "<br>\n",
    "\n",
    "One of our ANOVA test’s assumptions is that samples should be randomly selected and should be close to Gaussian Distribution. So let’s select 10 random samples from each factor or level:"
   ]
  },
  {
   "cell_type": "code",
   "execution_count": null,
   "metadata": {},
   "outputs": [],
   "source": [
    "np.random.seed(1234)\n",
    "dataNew=pd.DataFrame({'Dense1':random.sample(list(data['Positive'][data['density_Group']=='Dense1']), 10),\n",
    "'Dense2':random.sample(list(data['Positive'][data['density_Group']=='Dense1']), 10),\n",
    "'Dense3':random.sample(list(data['Positive'][data['density_Group']=='Dense1']), 10),\n",
    "'Dense4':random.sample(list(data['Positive'][data['density_Group']=='Dense1']), 10)})"
   ]
  },
  {
   "cell_type": "markdown",
   "metadata": {},
   "source": [
    "Let’s plot a density distribution of the number of Corona cases to check their distribution across different density groups:"
   ]
  },
  {
   "cell_type": "code",
   "execution_count": null,
   "metadata": {},
   "outputs": [],
   "source": [
    "#Plot number of Corona cases across different density groups to check their distribution.\n",
    "fig = plt.figure(figsize=(10,10))\n",
    "title = fig.suptitle(\"Corona cases across different density groups\", fontsize=14)\n",
    "fig.subplots_adjust(top=0.85, wspace=0.3)\n",
    "\n",
    "ax1 = fig.add_subplot(2,2,1)\n",
    "ax1.set_title(\"density Group-Dense1 & Corona Cases\")\n",
    "ax1.set_xlabel(\"density Group -Dense1\")\n",
    "ax1.set_ylabel(\"Corona Cases\") \n",
    "sns.kdeplot(dataNew['Dense1'], ax=ax1, shade=True, bw=0.03, color='g')\n",
    "\n",
    "ax2 = fig.add_subplot(2,2,2)\n",
    "ax2.set_title(\"density Group -Dense2 & Corona Cases\")\n",
    "ax2.set_xlabel(\"density Group -Dense2\")\n",
    "ax2.set_ylabel(\"Corona Cases\") \n",
    "sns.kdeplot(dataNew['Dense2'], ax=ax2, shade=True,bw=0.03, color='y')\n",
    "\n",
    "ax2 = fig.add_subplot(2,2,3)\n",
    "ax2.set_title(\"density Group -Dense2 & Corona Cases\")\n",
    "ax2.set_xlabel(\"density Group -Dense3\")\n",
    "ax2.set_ylabel(\"Corona Cases\") \n",
    "sns.kdeplot(dataNew['Dense3'], ax=ax2, shade=True, bw=0.03,color='r')\n",
    "\n",
    "ax2 = fig.add_subplot(2,2,4)\n",
    "ax2.set_title(\"density Group -Dense4 & Corona Cases\")\n",
    "ax2.set_xlabel(\"density Group -Dense4\")\n",
    "ax2.set_ylabel(\"Corona Cases\") \n",
    "sns.kdeplot(dataNew['Dense4'], ax=ax2, shade=True, bw=0.03,color='b')"
   ]
  },
  {
   "cell_type": "markdown",
   "metadata": {},
   "source": [
    "We can clearly see that the data doesn’t follow the Gaussian distribution.\n",
    "\n",
    "There are different data transformation methods available to bring the data to close to Gaussian Distribution. We’ll go ahead with Box Cox transformation:"
   ]
  },
  {
   "cell_type": "code",
   "execution_count": null,
   "metadata": {},
   "outputs": [],
   "source": [
    "dataNew.describe()"
   ]
  },
  {
   "cell_type": "code",
   "execution_count": null,
   "metadata": {},
   "outputs": [],
   "source": [
    "dataNew['Dense1'],fitted_lambda = stats.boxcox(dataNew['Dense1'])\n",
    "dataNew['Dense2'],fitted_lambda = stats.boxcox(dataNew['Dense2'])\n",
    "dataNew['Dense3'],fitted_lambda = stats.boxcox(dataNew['Dense3'])\n",
    "dataNew['Dense4'],fitted_lambda = stats.boxcox(dataNew['Dense4'])"
   ]
  },
  {
   "cell_type": "markdown",
   "metadata": {},
   "source": [
    "<br>\n",
    "\n",
    "Now let’s plot their distribution once again to check:"
   ]
  },
  {
   "cell_type": "code",
   "execution_count": null,
   "metadata": {},
   "outputs": [],
   "source": [
    "#Plot different density groups\n",
    "fig = plt.figure(figsize=(10,10))\n",
    "title = fig.suptitle(\"Corona cases across different density groups\", fontsize=14)\n",
    "fig.subplots_adjust(top=0.85, wspace=0.3)\n",
    "\n",
    "ax1 = fig.add_subplot(2,2,1)\n",
    "ax1.set_title(\"density Group-Dense1 & Corona Cases\")\n",
    "ax1.set_xlabel(\"density Group -Dense1\")\n",
    "ax1.set_ylabel(\"Corona Cases\") \n",
    "sns.kdeplot(dataNew['Dense1'], ax=ax1, shade=True,bw=4, color='g')\n",
    "\n",
    "ax2 = fig.add_subplot(2,2,2)\n",
    "ax2.set_title(\"density Group -Dense2 & Corona Cases\")\n",
    "ax2.set_xlabel(\"density Group -Dense2\")\n",
    "ax2.set_ylabel(\"Corona Cases\") \n",
    "sns.kdeplot(dataNew['Dense2'], ax=ax2, shade=True,bw=4, color='y')\n",
    "\n",
    "ax2 = fig.add_subplot(2,2,3)\n",
    "ax2.set_title(\"density Group -Dense2 & Corona Cases\")\n",
    "ax2.set_xlabel(\"density Group -Dense3\")\n",
    "ax2.set_ylabel(\"Corona Cases\") \n",
    "sns.kdeplot(dataNew['Dense3'], ax=ax2, shade=True,bw=4, color='r')\n",
    "\n",
    "ax2 = fig.add_subplot(2,2,4)\n",
    "ax2.set_title(\"density Group -Dense4 & Corona Cases\")\n",
    "ax2.set_xlabel(\"density Group -Dense4\")\n",
    "ax2.set_ylabel(\"Corona Cases\") \n",
    "sns.kdeplot(dataNew['Dense4'], ax=ax2, shade=True,bw=4, color='b')"
   ]
  },
  {
   "cell_type": "markdown",
   "metadata": {},
   "source": [
    "## Approach 1: One-Way ANOVA Test using statsmodels module\n",
    "\n",
    "There are a couple of methods in Python to perform an ANOVA test. One is with the stats.f_oneway() method:\n",
    "\n",
    "---"
   ]
  },
  {
   "cell_type": "code",
   "execution_count": null,
   "metadata": {},
   "outputs": [],
   "source": [
    "F, p = stats.f_oneway(dataNew['Dense1'],dataNew['Dense2'],dataNew['Dense3'],dataNew['Dense4'])\n",
    "# Seeing if the overall model is significant\n",
    "print('F-Statistic=%.3f, p=%.3f' % (F, p))"
   ]
  },
  {
   "cell_type": "markdown",
   "metadata": {},
   "source": [
    "We see that p-value <0.05. Hence, we can reject the Null Hypothesis – there are no differences among different density groups."
   ]
  },
  {
   "cell_type": "markdown",
   "metadata": {},
   "source": [
    "<br>\n",
    "\n",
    "### Approach 2: One-Way ANOVA Test using OLS Model\n",
    "\n",
    "As we know in regression, we can regress against each input variable and check its influence over the Target variable. So, we’ll follow the same approach, the approach we follow in Linear Regression.\n",
    "\n",
    "---"
   ]
  },
  {
   "cell_type": "code",
   "execution_count": null,
   "metadata": {},
   "outputs": [],
   "source": [
    "#Rearrange DataFrame\n",
    "newDf=dataNew.stack().to_frame().reset_index().rename(columns={'level_1':'density_Group',\n",
    "                                                               0:'Count'})\n",
    "del newDf['level_0']\n"
   ]
  },
  {
   "cell_type": "code",
   "execution_count": null,
   "metadata": {},
   "outputs": [],
   "source": [
    "model = ols('Count ~ C(density_Group)', newDf).fit()\n",
    "model.summary()"
   ]
  },
  {
   "cell_type": "code",
   "execution_count": null,
   "metadata": {},
   "outputs": [],
   "source": [
    "# Seeing if the overall model is significant\n",
    "print(f\"Overall model F({model.df_model: .0f},{model.df_resid: .0f}) = {model.fvalue: .3f}, p = {model.f_pvalue: .4f}\")\n",
    "\n",
    "# Creates the ANOVA table\n",
    "res = sm.stats.anova_lm(model, typ= 2)\n",
    "res"
   ]
  },
  {
   "cell_type": "markdown",
   "metadata": {},
   "source": [
    "From the above output results, we see that the p-value is less than 0.05. Hence, we can reject the Null Hypothesis that there’s no difference among different density groups.\n",
    "\n",
    "The F-statistic= 5.817 and the p-value= 0.002 which is indicating that there is an overall significant effect of density_Group on corona positive cases. However, we don’t know where the difference between desnity_groups is yet. So, based on the p-value we can reject the H0; that is there’s no significant difference as per density of an area and number of corona cases."
   ]
  },
  {
   "cell_type": "markdown",
   "metadata": {},
   "source": [
    "<br>\n",
    "## Post Hoc Tests\n",
    "\n",
    "When we conduct an ANOVA, we are attempting to determine if there is a statistically significant difference among the groups. So what if we find statistical significance?\n",
    "\n",
    "If we find that there is a difference, we will then need to examine where the group differences lay. So, we’ll use the Tukey HSD test to identify where the difference lies:"
   ]
  },
  {
   "cell_type": "code",
   "execution_count": null,
   "metadata": {},
   "outputs": [],
   "source": [
    "mc = statsmodels.stats.multicomp.MultiComparison(newDf['Count'],newDf['density_Group'])\n",
    "mc_results = mc.tukeyhsd()\n",
    "print(mc_results)"
   ]
  },
  {
   "cell_type": "markdown",
   "metadata": {},
   "source": [
    "Tuckey HSD test clearly says that there’s a significant difference between Group1 – Group3 , Group1 – Group4, Group2 – Group3, and Group3 – Group4.\n",
    "\n",
    "This suggests that except for the mentioned groups, all other pairwise comparisons for the number of Corona cases reject the null hypothesis and indicate no statistically significant differences."
   ]
  },
  {
   "cell_type": "markdown",
   "metadata": {},
   "source": [
    "<br>\n",
    "\n",
    "## Assumption Checks/Model Diagnostics\n",
    "## Normal Distribution Assumption check\n",
    "\n",
    "When working with linear regression and ANOVA models, the assumptions pertain to the residuals and not the variables themselves.\n",
    "\n",
    "---"
   ]
  },
  {
   "cell_type": "markdown",
   "metadata": {},
   "source": [
    "<br>\n",
    "\n",
    "#### Method 1: Shapiro Wilk test:"
   ]
  },
  {
   "cell_type": "code",
   "execution_count": null,
   "metadata": {},
   "outputs": [],
   "source": [
    "### Normality Assumption check\n",
    "w, pvalue = stats.shapiro(model.resid)\n",
    "print(w, pvalue)"
   ]
  },
  {
   "cell_type": "markdown",
   "metadata": {},
   "source": [
    "From the above snippet of code, we see that the p-value is >0.05 for all density groups. Hence, we can conclude that they follow the Gaussian Distribution."
   ]
  },
  {
   "cell_type": "markdown",
   "metadata": {},
   "source": [
    "<br>\n",
    "\n",
    "#### Method 2: Q-Q plot test:\n",
    "\n",
    "We can use the Normal Q-Q plot to test this assumption:"
   ]
  },
  {
   "cell_type": "code",
   "execution_count": null,
   "metadata": {},
   "outputs": [],
   "source": [
    "res = model.resid\n",
    "fig = sm.qqplot(res, line='s')\n",
    "plt.show()"
   ]
  },
  {
   "cell_type": "markdown",
   "metadata": {},
   "source": [
    "From the above figure, we see that all data points lie to close to the 45-degree line and hence we can conclude that it follows Normal Distribution."
   ]
  },
  {
   "cell_type": "markdown",
   "metadata": {},
   "source": [
    "<br>\n",
    "\n",
    "#### Homogeneity of Variance Assumption check\n",
    "\n",
    "The homogeneity of variance assumption should be checked for each level of the categorical variable. We can use the Levene’s test to test for equal variances between groups."
   ]
  },
  {
   "cell_type": "code",
   "execution_count": null,
   "metadata": {},
   "outputs": [],
   "source": [
    "w, pvalue = stats.bartlett(newDf['Count'][newDf['density_Group']=='Dense1'], newDf['Count'][newDf['density_Group']=='Dense2']\n",
    "                           , newDf['Count'][newDf['density_Group']=='Dense3'], newDf['Count'][newDf['density_Group']=='Dense4'])\n",
    "print(w, pvalue)\n",
    "\n",
    "# Levene variance test, Method 2\n",
    "stats.levene(dataNew['Dense1'],dataNew['Dense2'],dataNew['Dense3'],dataNew['Dense4'])"
   ]
  },
  {
   "cell_type": "markdown",
   "metadata": {},
   "source": [
    "We see that p-value >0.05 for all density groups. Hence, we can conclude that groups have equal variances."
   ]
  },
  {
   "cell_type": "code",
   "execution_count": null,
   "metadata": {},
   "outputs": [],
   "source": []
  }
 ],
 "metadata": {
  "kernelspec": {
   "display_name": "Python 3 (ipykernel)",
   "language": "python",
   "name": "python3"
  },
  "language_info": {
   "codemirror_mode": {
    "name": "ipython",
    "version": 3
   },
   "file_extension": ".py",
   "mimetype": "text/x-python",
   "name": "python",
   "nbconvert_exporter": "python",
   "pygments_lexer": "ipython3",
   "version": "3.8.12"
  }
 },
 "nbformat": 4,
 "nbformat_minor": 4
}
